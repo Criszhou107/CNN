{
 "cells": [
  {
   "cell_type": "markdown",
   "id": "943e67d7",
   "metadata": {},
   "source": [
    "#  Fitting a Convolutional Variational Autoencoder (CNN-VAE) with Pytorch\n",
    "\n",
    "\n",
    "## Import libraries, including PyTorch\n"
   ]
  },
  {
   "cell_type": "code",
   "execution_count": null,
   "id": "2f264177",
   "metadata": {},
   "outputs": [],
   "source": [
    "import pandas as pd\n",
    "from tqdm import trange, tqdm\n",
    "import torch\n",
    "torch.set_num_threads(2)\n",
    "import numpy as np\n",
    "import matplotlib.pyplot as plt\n",
    "import torch.nn as nn\n",
    "import torch.nn.functional as F                # contains activation functions, sampling layers etc\n",
    "import torchvision\n",
    "from torchvision import transforms\n",
    "from torchvision.utils import make_grid    \n",
    "from torch.utils.data import DataLoader        # to load data into batches (for SGD)\n",
    "import torch.optim as optim                    # For optimization routines such as SGD, ADAM, ADAGRAD, etc\n",
    "from torch.utils.data import DataLoader,random_split"
   ]
  },
  {
   "cell_type": "markdown",
   "id": "d01c8ec0",
   "metadata": {},
   "source": [
    "### Load in the MNIST digits data"
   ]
  },
  {
   "cell_type": "code",
   "execution_count": null,
   "id": "a4a6f8c1",
   "metadata": {},
   "outputs": [],
   "source": [
    "from torchvision import datasets\n",
    "from torchvision.transforms import ToTensor\n",
    "\n",
    "data_dir = 'dataset'\n",
    "\n",
    "train_dataset = torchvision.datasets.MNIST(data_dir, train=True, download=True)\n",
    "test_dataset  = torchvision.datasets.MNIST(data_dir, train=False, download=True)\n",
    "\n",
    "train_transform = transforms.Compose([\n",
    "transforms.ToTensor(),\n",
    "])\n",
    "\n",
    "test_transform = transforms.Compose([\n",
    "transforms.ToTensor(),\n",
    "])\n",
    "\n",
    "train_dataset.transform = train_transform\n",
    "test_dataset.transform = test_transform"
   ]
  },
  {
   "cell_type": "markdown",
   "id": "eb19e5f3",
   "metadata": {},
   "source": [
    "## View basic data set information"
   ]
  },
  {
   "cell_type": "code",
   "execution_count": null,
   "id": "a0a0ae9e",
   "metadata": {},
   "outputs": [],
   "source": [
    "print(train_dataset)"
   ]
  },
  {
   "cell_type": "markdown",
   "id": "65133adb",
   "metadata": {},
   "source": [
    "### Split the training data into a validation and training dataset"
   ]
  },
  {
   "cell_type": "code",
   "execution_count": null,
   "id": "e24308f9",
   "metadata": {},
   "outputs": [],
   "source": [
    "m=len(train_dataset)\n",
    "\n",
    "train_data, val_data = random_split(train_dataset, [int(m-m*0.2), int(m*0.2)])\n",
    "batch_size=256\n",
    "\n",
    "train_loader = torch.utils.data.DataLoader(train_data, batch_size=batch_size)\n",
    "valid_loader = torch.utils.data.DataLoader(val_data, batch_size=batch_size)\n",
    "test_loader = torch.utils.data.DataLoader(test_dataset, batch_size=batch_size,shuffle=True)"
   ]
  },
  {
   "cell_type": "markdown",
   "id": "b22e633b",
   "metadata": {},
   "source": [
    "### Below is the encoder class"
   ]
  },
  {
   "cell_type": "code",
   "execution_count": null,
   "id": "f0e961ea",
   "metadata": {},
   "outputs": [],
   "source": [
    "class VariationalEncoder(nn.Module):\n",
    "    def __init__(self, latent_dims):  \n",
    "        super(VariationalEncoder, self).__init__()\n",
    "        self.conv1 = nn.Conv2d(1, 8, 3, stride=2, padding=1)\n",
    "        self.conv2 = nn.Conv2d(8, 16, 3, stride=2, padding=1)\n",
    "        self.batch2 = nn.BatchNorm2d(16)\n",
    "        self.conv3 = nn.Conv2d(16, 32, 3, stride=2, padding=0)  \n",
    "        self.linear1 = nn.Linear(3*3*32, 128)\n",
    "        self.linear2 = nn.Linear(128, latent_dims)\n",
    "        self.linear3 = nn.Linear(128, latent_dims)\n",
    "\n",
    "        self.N = torch.distributions.Normal(0, 1)\n",
    "        self.kl = 0\n",
    "\n",
    "    def forward(self, x):\n",
    "        x = x.to(device)\n",
    "        x = F.relu(self.conv1(x))\n",
    "        x = F.relu(self.batch2(self.conv2(x)))\n",
    "        x = F.relu(self.conv3(x))\n",
    "        x = torch.flatten(x, start_dim=1)\n",
    "        x = F.relu(self.linear1(x))\n",
    "        mu =  self.linear2(x)                                          # This is the part that makes\n",
    "        sigma = torch.exp(self.linear3(x))                             # a VAE different to a standard AE\n",
    "        z = mu + sigma*self.N.sample(mu.shape)                         # by constraining the latent space\n",
    "        self.kl = (sigma**2 + mu**2 - torch.log(sigma) - 1/2).sum()    # to a normal distribution\n",
    "        return z      "
   ]
  },
  {
   "cell_type": "markdown",
   "id": "ff7df614",
   "metadata": {},
   "source": [
    "### Below is the decoder class"
   ]
  },
  {
   "cell_type": "code",
   "execution_count": null,
   "id": "f50b99e3",
   "metadata": {},
   "outputs": [],
   "source": [
    "class Decoder(nn.Module):\n",
    "    \n",
    "    def __init__(self, latent_dims):\n",
    "        super().__init__()\n",
    "\n",
    "        self.decoder_lin = nn.Sequential(\n",
    "            nn.Linear(latent_dims, 128),\n",
    "            nn.ReLU(True),\n",
    "            nn.Linear(128, 3 * 3 * 32),\n",
    "            nn.ReLU(True)\n",
    "        )\n",
    "\n",
    "        self.unflatten = nn.Unflatten(dim=1, unflattened_size=(32, 3, 3))\n",
    "\n",
    "        self.decoder_conv = nn.Sequential(\n",
    "            nn.ConvTranspose2d(32, 16, 3, stride=2, output_padding=0),\n",
    "            nn.BatchNorm2d(16),\n",
    "            nn.ReLU(True),\n",
    "            nn.ConvTranspose2d(16, 8, 3, stride=2, padding=1, output_padding=1),\n",
    "            nn.BatchNorm2d(8),\n",
    "            nn.ReLU(True),\n",
    "            nn.ConvTranspose2d(8, 1, 3, stride=2, padding=1, output_padding=1)\n",
    "        )\n",
    "        \n",
    "    def forward(self, x):\n",
    "        x = self.decoder_lin(x)\n",
    "        x = self.unflatten(x)\n",
    "        x = self.decoder_conv(x)\n",
    "        x = torch.sigmoid(x)\n",
    "        return x"
   ]
  },
  {
   "cell_type": "markdown",
   "id": "30c9757d",
   "metadata": {},
   "source": [
    "### Below a class to combined the encoder and decoder into the VAE"
   ]
  },
  {
   "cell_type": "code",
   "execution_count": null,
   "id": "a073bed8",
   "metadata": {},
   "outputs": [],
   "source": [
    "class VariationalAutoencoder(nn.Module):\n",
    "    def __init__(self, latent_dims):\n",
    "        super(VariationalAutoencoder, self).__init__()\n",
    "        self.encoder = VariationalEncoder(latent_dims)\n",
    "        self.decoder = Decoder(latent_dims)\n",
    "\n",
    "    def forward(self, x):\n",
    "        x = x.to(device)\n",
    "        z = self.encoder(x)\n",
    "        return self.decoder(z)"
   ]
  },
  {
   "cell_type": "markdown",
   "id": "9e22db4c",
   "metadata": {},
   "source": [
    "### Set up the latent dimension and training set-up"
   ]
  },
  {
   "cell_type": "code",
   "execution_count": null,
   "id": "026775ca",
   "metadata": {},
   "outputs": [],
   "source": [
    "### Set the random seed for reproducible results\n",
    "torch.manual_seed(0)\n",
    "\n",
    "d = 4\n",
    "\n",
    "vae = VariationalAutoencoder(latent_dims=d)\n",
    "\n",
    "lr = 1e-3 \n",
    "\n",
    "optim = torch.optim.Adam(vae.parameters(), lr=lr, weight_decay=1e-5)\n",
    "\n",
    "device = torch.device(\"cuda\") if torch.cuda.is_available() else torch.device(\"cpu\")\n",
    "print(f'Selected device: {device}')\n",
    "\n",
    "vae.to(device)"
   ]
  },
  {
   "cell_type": "markdown",
   "id": "b991a7c5",
   "metadata": {},
   "source": [
    "### Setting up the training procedure and the loss function"
   ]
  },
  {
   "cell_type": "code",
   "execution_count": null,
   "id": "900cc945",
   "metadata": {},
   "outputs": [],
   "source": [
    "### Training function\n",
    "def train_epoch(vae, device, dataloader, optimizer):\n",
    "    # Set train mode for both the encoder and the decoder\n",
    "    vae.train()\n",
    "    train_loss = 0.0\n",
    "    # Iterate the dataloader (we do not need the label values, this is unsupervised learning)\n",
    "    for x, _ in dataloader: \n",
    "        # Move tensor to the proper device\n",
    "        x = x.to(device)\n",
    "        x_hat = vae(x)\n",
    "        # Evaluate loss\n",
    "        loss = ((x - x_hat)**2).sum() + vae.encoder.kl\n",
    "\n",
    "        # Backward pass\n",
    "        optimizer.zero_grad()\n",
    "        loss.backward()\n",
    "        optimizer.step()\n",
    "        # Print batch loss\n",
    "        print('\\t partial train loss (single batch): %f' % (loss.item()))\n",
    "        train_loss+=loss.item()\n",
    "\n",
    "    return train_loss / len(dataloader.dataset)"
   ]
  },
  {
   "cell_type": "markdown",
   "id": "3b4c8f3b",
   "metadata": {},
   "source": [
    "### Below is the validation data loss"
   ]
  },
  {
   "cell_type": "code",
   "execution_count": null,
   "id": "754dbeb7",
   "metadata": {},
   "outputs": [],
   "source": [
    "### Testing function\n",
    "def test_epoch(vae, device, dataloader):\n",
    "    # Set evaluation mode for encoder and decoder\n",
    "    vae.eval()\n",
    "    val_loss = 0.0\n",
    "    with torch.no_grad(): # No need to track the gradients\n",
    "        for x, _ in dataloader:\n",
    "            # Move tensor to the proper device\n",
    "            x = x.to(device)\n",
    "            # Encode data\n",
    "            encoded_data = vae.encoder(x)\n",
    "            # Decode data\n",
    "            x_hat = vae(x)\n",
    "            loss = ((x - x_hat)**2).sum() + vae.encoder.kl\n",
    "            val_loss += loss.item()\n",
    "\n",
    "    return val_loss / len(dataloader.dataset)"
   ]
  },
  {
   "cell_type": "markdown",
   "id": "16bc3dfe",
   "metadata": {},
   "source": [
    "### Code for plotting original and reconstructed digits"
   ]
  },
  {
   "cell_type": "code",
   "execution_count": null,
   "id": "be7f9e0b",
   "metadata": {},
   "outputs": [],
   "source": [
    "def plot_ae_outputs(encoder,decoder,n=10):\n",
    "    plt.figure(figsize=(16,4.5))\n",
    "    targets = test_dataset.targets.numpy()\n",
    "    t_idx = {i:np.where(targets==i)[0][0] for i in range(n)}\n",
    "    for i in range(n):\n",
    "      ax = plt.subplot(2,n,i+1)\n",
    "      img = test_dataset[t_idx[i]][0].unsqueeze(0).to(device)\n",
    "      encoder.eval()\n",
    "      decoder.eval()\n",
    "      with torch.no_grad():\n",
    "         rec_img  = decoder(encoder(img))\n",
    "      plt.imshow(img.cpu().squeeze().numpy(), cmap='gist_gray')\n",
    "      ax.get_xaxis().set_visible(False)\n",
    "      ax.get_yaxis().set_visible(False)  \n",
    "      if i == n//2:\n",
    "        ax.set_title('Original images')\n",
    "      ax = plt.subplot(2, n, i + 1 + n)\n",
    "      plt.imshow(rec_img.cpu().squeeze().numpy(), cmap='gist_gray')  \n",
    "      ax.get_xaxis().set_visible(False)\n",
    "      ax.get_yaxis().set_visible(False)  \n",
    "      if i == n//2:\n",
    "         ax.set_title('Reconstructed images')\n",
    "    plt.show()  "
   ]
  },
  {
   "cell_type": "markdown",
   "id": "7850a736",
   "metadata": {},
   "source": [
    "### Below is code for training"
   ]
  },
  {
   "cell_type": "code",
   "execution_count": null,
   "id": "3ca6440c",
   "metadata": {},
   "outputs": [],
   "source": [
    "# num_epochs = 50\n",
    "\n",
    "# diz_loss = {'train_loss':[],'val_loss':[]}\n",
    "# for epoch in range(num_epochs):\n",
    "#     train_loss = train_epoch(vae,device,train_loader,optim)\n",
    "#     val_loss = test_epoch(vae,device,valid_loader)\n",
    "#     diz_loss['train_loss'].append(train_loss)\n",
    "#     diz_loss['val_loss'].append(val_loss)\n",
    "#     print('\\n EPOCH {}/{} \\t train loss {:.3f} \\t val loss {:.3f}'.format(epoch + 1, num_epochs,train_loss,val_loss))\n",
    "# plot_ae_outputs(vae.encoder,vae.decoder,n=10)"
   ]
  },
  {
   "cell_type": "markdown",
   "id": "6964a7a4",
   "metadata": {},
   "source": [
    "### Below is some code to save the trained models"
   ]
  },
  {
   "cell_type": "code",
   "execution_count": null,
   "id": "720626be",
   "metadata": {},
   "outputs": [],
   "source": [
    "#torch.save(vae.state_dict(), './saved_models/vae')"
   ]
  },
  {
   "cell_type": "markdown",
   "id": "bc87b9b5",
   "metadata": {},
   "source": [
    "### Below we load in a pre-trained model"
   ]
  },
  {
   "cell_type": "code",
   "execution_count": null,
   "id": "946eaf6e",
   "metadata": {},
   "outputs": [],
   "source": [
    "vae = VariationalAutoencoder(latent_dims=d)\n",
    "vae.load_state_dict(torch.load('./saved_models/vae'))\n",
    "vae.eval()\n",
    "\n",
    "plot_ae_outputs(vae.encoder,vae.decoder,n=10)"
   ]
  },
  {
   "cell_type": "markdown",
   "id": "07f904aa",
   "metadata": {},
   "source": [
    "### Plot the training and validation loss throughout training\n",
    "\n",
    "This is commented out since we are using a pre-trained model"
   ]
  },
  {
   "cell_type": "code",
   "execution_count": null,
   "id": "e45d34ea",
   "metadata": {},
   "outputs": [],
   "source": [
    "# plt.figure(figsize=(10,8))\n",
    "# plt.semilogy(diz_loss['train_loss'], label='Train')\n",
    "# plt.semilogy(diz_loss['val_loss'], label='Valid')\n",
    "# plt.xlabel('Epoch')\n",
    "# plt.ylabel('Average Loss')\n",
    "# plt.legend()\n",
    "# plt.show()"
   ]
  },
  {
   "cell_type": "markdown",
   "id": "f2a5c2a9",
   "metadata": {},
   "source": [
    "### Plot images generated from random points in the latent space\n",
    "\n",
    "These looks a bit better than the ones for the non-variational autoencoder"
   ]
  },
  {
   "cell_type": "code",
   "execution_count": null,
   "id": "ad253164",
   "metadata": {},
   "outputs": [],
   "source": [
    "def show_image(img):\n",
    "    npimg = img.numpy()\n",
    "    plt.imshow(np.transpose(npimg, (1, 2, 0)))\n",
    "\n",
    "\n",
    "vae.eval()\n",
    "\n",
    "with torch.no_grad():\n",
    "\n",
    "    # sample latent vectors from the normal distribution\n",
    "    latent = torch.randn(128, d, device=device)\n",
    "\n",
    "    # reconstruct images from the latent vectors\n",
    "    img_recon = vae.decoder(latent)\n",
    "    img_recon = img_recon.cpu()\n",
    "\n",
    "    fig, ax = plt.subplots(figsize=(20, 8.5))\n",
    "    show_image(torchvision.utils.make_grid(img_recon.data[:100],10,5))\n",
    "    plt.show()"
   ]
  },
  {
   "cell_type": "markdown",
   "id": "320bbe32",
   "metadata": {},
   "source": [
    "### Below we show where the digits lie in two of the latent dimensions"
   ]
  },
  {
   "cell_type": "code",
   "execution_count": null,
   "id": "bcfac991",
   "metadata": {},
   "outputs": [],
   "source": [
    "test_subset_size = 1000 # We just take 1000 samples from the test data to keep computation time down\n",
    "encoded_samples = []\n",
    "for i in tqdm(range(1,test_subset_size+1)):\n",
    "    sample_idx = torch.randint(len(test_dataset), size=(1,)).item()\n",
    "    sample = test_dataset[sample_idx]\n",
    "    img = sample[0].unsqueeze(0).to(device)\n",
    "    label = sample[1]\n",
    "    # Encode image\n",
    "    vae.eval()\n",
    "    with torch.no_grad():\n",
    "        encoded_img  = vae.encoder(img)\n",
    "    # Append to list\n",
    "    encoded_img = encoded_img.flatten().cpu().numpy()\n",
    "    encoded_sample = {f\"Enc. Variable {i}\": enc for i, enc in enumerate(encoded_img)}\n",
    "    encoded_sample['label'] = label\n",
    "    encoded_samples.append(encoded_sample)\n",
    "    \n",
    "encoded_samples = pd.DataFrame(encoded_samples)\n",
    "encoded_samples\n",
    "\n",
    "import plotly.express as px\n",
    "\n",
    "px.scatter(encoded_samples, x='Enc. Variable 0', y='Enc. Variable 1', color=encoded_samples.label.astype(str), opacity=0.7)\n"
   ]
  },
  {
   "cell_type": "code",
   "execution_count": null,
   "id": "0fb358e3",
   "metadata": {},
   "outputs": [],
   "source": []
  }
 ],
 "metadata": {
  "kernelspec": {
   "display_name": "Python 3 (ipykernel)",
   "language": "python",
   "name": "python3"
  },
  "language_info": {
   "codemirror_mode": {
    "name": "ipython",
    "version": 3
   },
   "file_extension": ".py",
   "mimetype": "text/x-python",
   "name": "python",
   "nbconvert_exporter": "python",
   "pygments_lexer": "ipython3",
   "version": "3.9.13"
  }
 },
 "nbformat": 4,
 "nbformat_minor": 5
}
